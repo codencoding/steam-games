{
 "cells": [
  {
   "cell_type": "code",
   "execution_count": 1,
   "id": "ranging-element",
   "metadata": {},
   "outputs": [],
   "source": [
    "import pandas as pd\n",
    "import numpy as np\n",
    "import datetime"
   ]
  },
  {
   "cell_type": "code",
   "execution_count": 2,
   "id": "precious-softball",
   "metadata": {},
   "outputs": [],
   "source": [
    "ROOT_DIR = \"../../\""
   ]
  },
  {
   "cell_type": "code",
   "execution_count": 3,
   "id": "saved-click",
   "metadata": {},
   "outputs": [],
   "source": [
    "def gpu_conv(flops):\n",
    "    data = flops.split(' ')\n",
    "    if data[-1][0] == 'G':\n",
    "        return float(data[0])\n",
    "    else:\n",
    "        return float(data[0]) * 1000\n",
    "\n",
    "def date_conv(date):\n",
    "    month, day, year = date.split('/')\n",
    "    month = int(month)\n",
    "    day = int(day)\n",
    "    year = int(year)\n",
    "    return datetime.datetime(year, month, day)"
   ]
  },
  {
   "cell_type": "code",
   "execution_count": 4,
   "id": "coordinated-gather",
   "metadata": {},
   "outputs": [],
   "source": [
    "df = pd.read_csv(ROOT_DIR + \"data/console_specs.csv\")\n",
    "\n",
    "df = df[df[\"console\"].str.contains(\"x\")]\n",
    "df[\"gpu flops\"] = df[\"gpu flops\"].apply(gpu_conv)\n",
    "df[\"release date\"] = df[\"release date\"].apply(date_conv)"
   ]
  },
  {
   "cell_type": "code",
   "execution_count": 10,
   "id": "coral-bottle",
   "metadata": {},
   "outputs": [
    {
     "data": {
      "text/html": [
       "<div>\n",
       "<style scoped>\n",
       "    .dataframe tbody tr th:only-of-type {\n",
       "        vertical-align: middle;\n",
       "    }\n",
       "\n",
       "    .dataframe tbody tr th {\n",
       "        vertical-align: top;\n",
       "    }\n",
       "\n",
       "    .dataframe thead th {\n",
       "        text-align: right;\n",
       "    }\n",
       "</style>\n",
       "<table border=\"1\" class=\"dataframe\">\n",
       "  <thead>\n",
       "    <tr style=\"text-align: right;\">\n",
       "      <th></th>\n",
       "      <th>release date</th>\n",
       "      <th>gpu flops</th>\n",
       "    </tr>\n",
       "  </thead>\n",
       "  <tbody>\n",
       "    <tr>\n",
       "      <th>5</th>\n",
       "      <td>2001-11-15</td>\n",
       "      <td>20.0</td>\n",
       "    </tr>\n",
       "    <tr>\n",
       "      <th>6</th>\n",
       "      <td>2005-11-22</td>\n",
       "      <td>240.0</td>\n",
       "    </tr>\n",
       "    <tr>\n",
       "      <th>7</th>\n",
       "      <td>2013-11-22</td>\n",
       "      <td>1310.0</td>\n",
       "    </tr>\n",
       "    <tr>\n",
       "      <th>8</th>\n",
       "      <td>2020-11-10</td>\n",
       "      <td>12155.0</td>\n",
       "    </tr>\n",
       "  </tbody>\n",
       "</table>\n",
       "</div>"
      ],
      "text/plain": [
       "  release date  gpu flops\n",
       "5   2001-11-15       20.0\n",
       "6   2005-11-22      240.0\n",
       "7   2013-11-22     1310.0\n",
       "8   2020-11-10    12155.0"
      ]
     },
     "metadata": {},
     "output_type": "display_data"
    },
    {
     "data": {
      "text/plain": [
       "<AxesSubplot:xlabel='release date'>"
      ]
     },
     "execution_count": 10,
     "metadata": {},
     "output_type": "execute_result"
    },
    {
     "data": {
      "image/png": "[encoded data removed]",
      "text/plain": [
       "<Figure size 432x288 with 1 Axes>"
      ]
     },
     "metadata": {
      "needs_background": "light"
     },
     "output_type": "display_data"
    }
   ],
   "source": [
    "display(df[[\"release date\", \"gpu flops\"]])\n",
    "df.plot(x=\"release date\", y=\"gpu flops\")"
   ]
  },
  {
   "cell_type": "code",
   "execution_count": null,
   "id": "miniature-unemployment",
   "metadata": {},
   "outputs": [],
   "source": []
  }
 ],
 "metadata": {
  "kernelspec": {
   "display_name": "Python 3",
   "language": "python",
   "name": "python3"
  },
  "language_info": {
   "codemirror_mode": {
    "name": "ipython",
    "version": 3
   },
   "file_extension": ".py",
   "mimetype": "text/x-python",
   "name": "python",
   "nbconvert_exporter": "python",
   "pygments_lexer": "ipython3",
   "version": "3.6.9"
  }
 },
 "nbformat": 4,
 "nbformat_minor": 5
}
