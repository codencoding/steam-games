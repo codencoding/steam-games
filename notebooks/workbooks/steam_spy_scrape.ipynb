{
 "cells": [
  {
   "cell_type": "code",
   "execution_count": 1,
   "id": "relative-missouri",
   "metadata": {},
   "outputs": [],
   "source": [
    "import pandas as pd\n",
    "import numpy as np"
   ]
  },
  {
   "cell_type": "code",
   "execution_count": 2,
   "id": "premier-poetry",
   "metadata": {},
   "outputs": [],
   "source": [
    "import sys\n",
    "import os\n",
    "\n",
    "ROOT_DIR = \"../../\"\n",
    "sys.path.insert(0, os.path.abspath(ROOT_DIR + \"/src\"))\n",
    "import visualization.visualization as vs\n",
    "import scraping.preprocessing as pr"
   ]
  },
  {
   "cell_type": "code",
   "execution_count": 3,
   "id": "consolidated-major",
   "metadata": {},
   "outputs": [
    {
     "name": "stderr",
     "output_type": "stream",
     "text": [
      "/home/chase0/.local/lib/python3.6/site-packages/IPython/core/interactiveshell.py:3072: DtypeWarning: Columns (24,34,38,40,41,43,45,46,47,48,49,50,51,52,53,54,55,56,57,58,59,60,61,62,63,64,65,66,67,68,69,70,71,72,73,74,75,76,77,78,79,80,81,82,83,84,86,87,88,89,90,91,92,93,94,95,96,97,98,100,101,102,104,105,106,107,108,109,110,111,112,113,114,115,116,117,118,119,122,123,124,125,126,127,128,129,130,131,132,133,134,135,136,137,138,139,140,141,142,143,144,146,147,148,149,150,151,152,153,154,155,156,157,158,159,160,161,162,163,164,165,166,167,168,169,170,171,172,173,174,175,176,177,178,179,180,181,182,183,184,185,187,188,189,190,191,192,193,194,195,196,197,198,199,200,201,202,203,204,205,206,207,208,209,210,211,212,213,214,215,216,217,218,219,220,221,222,223,224,225,226,227,228,229,230,231) have mixed types.Specify dtype option on import or set low_memory=False.\n",
      "  interactivity=interactivity, compiler=compiler, result=result)\n"
     ]
    }
   ],
   "source": [
    "# Load system requirements data\n",
    "df = pd.read_csv(ROOT_DIR + \"data/sys_reqs/1-19-2021.sys_reqs.csv\")"
   ]
  },
  {
   "cell_type": "code",
   "execution_count": 4,
   "id": "initial-example",
   "metadata": {},
   "outputs": [],
   "source": [
    "app_ids = df.href.str.extract(r\"[app|bundle]/(\\d+)/\")[0]\n",
    "app_ids = app_ids.fillna(-1).astype(int)\n",
    "df[\"app_id\"] = app_ids"
   ]
  },
  {
   "cell_type": "code",
   "execution_count": 5,
   "id": "prime-roads",
   "metadata": {},
   "outputs": [],
   "source": [
    "import requests\n",
    "import time\n",
    "import json"
   ]
  },
  {
   "cell_type": "code",
   "execution_count": 6,
   "id": "ecological-guest",
   "metadata": {
    "scrolled": true
   },
   "outputs": [],
   "source": [
    "chunksize = 2000\n",
    "unique_ids = df[\"app_id\"].unique()\n",
    "chunk_ids = np.array_split(unique_ids, len(unique_ids)/chunksize)"
   ]
  },
  {
   "cell_type": "code",
   "execution_count": null,
   "id": "relative-wisdom",
   "metadata": {},
   "outputs": [],
   "source": [
    "%%capture output\n",
    "save_dir = ROOT_DIR + \"data/temp/steamspy/\"\n",
    "if not os.path.exists(save_dir):\n",
    "    os.mkdir(save_dir)\n",
    "chunk_fname = \"steamspy_chunk_{}.csv\"\n",
    "start_chunk = 0\n",
    "    \n",
    "query = \"https://steamspy.com/api.php?request=appdetails&appid={}\"\n",
    "chunk_num = start_chunk\n",
    "failed_chunks = 0\n",
    "failed_app_ids = []\n",
    "curr_query = ''\n",
    "for chunk in chunk_ids[start_chunk:]:\n",
    "    outputs = {}\n",
    "    for app_id in chunk:\n",
    "        time.sleep(1)\n",
    "        print(' '*len(curr_query), end='\\r')\n",
    "        curr_query = query.format(app_id)\n",
    "        print(\"Fetching {}\".format(curr_query), end='\\r')\n",
    "        \n",
    "        out = requests.get(curr_query)\n",
    "        if not out.ok:\n",
    "            print(' '*len(curr_query), end='\\r')\n",
    "            print(\"Could not fetch details for app {}\".format(app_id))\n",
    "            failed_app_ids.append(app_id)\n",
    "            outputs[app_id] = None\n",
    "            continue\n",
    "            \n",
    "        content = json.loads(out.content)\n",
    "        if content.get(\"name\") is None:\n",
    "            print(' '*len(curr_query), end='\\r')\n",
    "            print(\"No details found for app {}\".format(app_id))\n",
    "            failed_app_ids.append(app_id)\n",
    "            outputs[app_id] = None\n",
    "            continue\n",
    "            \n",
    "        outputs[app_id] = content\n",
    "    try:\n",
    "        data = pd.DataFrame(outputs).transpose()\n",
    "        data.to_csv(save_dir + chunk_fname.format(chunk_num), index=False)\n",
    "    except:\n",
    "        print(' '*len(curr_query), end='\\r')\n",
    "        print(\"Chunk {} failed!\".format(chunk_num))\n",
    "        failed_chunks += 1\n",
    "    chunk_num += 1"
   ]
  },
  {
   "cell_type": "code",
   "execution_count": null,
   "id": "american-aquatic",
   "metadata": {},
   "outputs": [],
   "source": [
    "log_dir = ROOT_DIR + \"data/temp/logs/\"\n",
    "if not os.path.exists(log_dir):\n",
    "    os.mkdir(log_dir)\n",
    "with open(log_dir + \"output.txt\", 'w') as f:\n",
    "    f.write(output.stdout)"
   ]
  },
  {
   "cell_type": "code",
   "execution_count": null,
   "id": "heard-floating",
   "metadata": {},
   "outputs": [],
   "source": [
    "# This will show capture all interim outputs from the above cell and allow access to them after running\n",
    "output.show()"
   ]
  },
  {
   "cell_type": "code",
   "execution_count": 60,
   "id": "greatest-ordinary",
   "metadata": {
    "scrolled": true
   },
   "outputs": [],
   "source": [
    "final_df = pd.read_csv(save_dir + os.listdir(save_dir)[0]).transpose()\n",
    "for fname in os.listdir(save_dir)[1:]:\n",
    "    new_df = pd.read_csv(save_dir + fname)#.transpose()\n",
    "    final_df = final_df.append(new_df)\n",
    "    \n",
    "final_df = final_df.rename(dict(zip(range(20), data.index)), axis=1).reset_index(drop=True)"
   ]
  },
  {
   "cell_type": "code",
   "execution_count": 65,
   "id": "expired-monroe",
   "metadata": {},
   "outputs": [],
   "source": [
    "final_df.to_csv(ROOT_DIR + \"data/steamspy.csv\", index=False)"
   ]
  }
 ],
 "metadata": {
  "kernelspec": {
   "display_name": "Python 3",
   "language": "python",
   "name": "python3"
  },
  "language_info": {
   "codemirror_mode": {
    "name": "ipython",
    "version": 3
   },
   "file_extension": ".py",
   "mimetype": "text/x-python",
   "name": "python",
   "nbconvert_exporter": "python",
   "pygments_lexer": "ipython3",
   "version": "3.6.9"
  }
 },
 "nbformat": 4,
 "nbformat_minor": 5
}
