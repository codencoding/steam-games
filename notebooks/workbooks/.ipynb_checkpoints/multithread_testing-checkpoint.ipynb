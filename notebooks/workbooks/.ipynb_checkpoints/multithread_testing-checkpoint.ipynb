{
 "cells": [
  {
   "cell_type": "code",
   "execution_count": 1,
   "metadata": {},
   "outputs": [],
   "source": [
    "import os\n",
    "import sys"
   ]
  },
  {
   "cell_type": "code",
   "execution_count": 2,
   "metadata": {},
   "outputs": [],
   "source": [
    "ROOT_DIR = \"../../\"\n",
    "sys.path.insert(0, os.path.abspath(ROOT_DIR + \"/src/scraping\"))\n",
    "from scraping import steam_scraper"
   ]
  },
  {
   "cell_type": "code",
   "execution_count": 3,
   "metadata": {},
   "outputs": [],
   "source": [
    "sc = steam_scraper(ROOT_DIR)"
   ]
  },
  {
   "cell_type": "code",
   "execution_count": 4,
   "metadata": {},
   "outputs": [],
   "source": [
    "import requests\n",
    "import bs4\n",
    "import pandas as pd\n",
    "import numpy as np"
   ]
  },
  {
   "cell_type": "markdown",
   "metadata": {},
   "source": [
    "***"
   ]
  },
  {
   "cell_type": "code",
   "execution_count": 5,
   "metadata": {},
   "outputs": [],
   "source": [
    "import concurrent.futures\n",
    "import requests\n",
    "import time"
   ]
  },
  {
   "cell_type": "code",
   "execution_count": 6,
   "metadata": {},
   "outputs": [],
   "source": [
    "sc.scrape_data()"
   ]
  },
  {
   "cell_type": "markdown",
   "metadata": {},
   "source": [
    "# Works, but is too dangerous to use. \n",
    "Using this pings the steam servers far too quickly, and will result in a swift blacklist of your ip. Slower method in steam_scraping notebook recommended instead."
   ]
  },
  {
   "cell_type": "code",
   "execution_count": 7,
   "metadata": {},
   "outputs": [
    {
     "name": "stdout",
     "output_type": "stream",
     "text": [
      "Took 313.61 s\n",
      "<class 'requests.exceptions.ConnectionError'>    995\n",
      "<class 'requests.exceptions.ReadTimeout'>          5\n",
      "dtype: int64\n"
     ]
    }
   ],
   "source": [
    "# out = []\n",
    "# CONNECTIONS = 100\n",
    "# TIMEOUT = 5\n",
    "\n",
    "# urls = sc.games[\"href\"].iloc[:1000].to_list()\n",
    "\n",
    "# def load_url(url, timeout):\n",
    "#     out = sc.get_game_info(url)\n",
    "# #     ans = requests.get(url, timeout=timeout)\n",
    "#     return out\n",
    "\n",
    "# with concurrent.futures.ThreadPoolExecutor(max_workers=CONNECTIONS) as executor:\n",
    "#     future_to_url = (executor.submit(load_url, url, TIMEOUT) for url in urls)\n",
    "#     time1 = time.time()\n",
    "#     for future in concurrent.futures.as_completed(future_to_url):\n",
    "#         try:\n",
    "#             data = future.result()\n",
    "#         except Exception as exc:\n",
    "#             data = str(type(exc))\n",
    "#         finally:\n",
    "#             out.append(data)\n",
    "\n",
    "#             print(str(len(out)),end=\"\\r\")\n",
    "\n",
    "#     time2 = time.time()\n",
    "\n",
    "# print(f'Took {time2-time1:.2f} s')\n",
    "# print(pd.Series(out).value_counts())"
   ]
  },
  {
   "cell_type": "code",
   "execution_count": null,
   "metadata": {},
   "outputs": [],
   "source": []
  }
 ],
 "metadata": {
  "kernelspec": {
   "display_name": "Python 3",
   "language": "python",
   "name": "python3"
  },
  "language_info": {
   "codemirror_mode": {
    "name": "ipython",
    "version": 3
   },
   "file_extension": ".py",
   "mimetype": "text/x-python",
   "name": "python",
   "nbconvert_exporter": "python",
   "pygments_lexer": "ipython3",
   "version": "3.6.2"
  }
 },
 "nbformat": 4,
 "nbformat_minor": 2
}
