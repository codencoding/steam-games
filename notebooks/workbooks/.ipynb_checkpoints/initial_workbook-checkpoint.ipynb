{
 "cells": [
  {
   "cell_type": "code",
   "execution_count": 13,
   "metadata": {},
   "outputs": [],
   "source": [
    "import os\n",
    "import sys"
   ]
  },
  {
   "cell_type": "code",
   "execution_count": 2,
   "metadata": {},
   "outputs": [],
   "source": [
    "ROOT_DIR = \"../../\"\n",
    "sys.path.insert(0, os.path.abspath(ROOT_DIR + \"/src/scraping\"))\n",
    "import scraping as sc"
   ]
  },
  {
   "cell_type": "code",
   "execution_count": 3,
   "metadata": {},
   "outputs": [],
   "source": [
    "from temp import *\n",
    "from temp_root import *"
   ]
  },
  {
   "cell_type": "markdown",
   "metadata": {},
   "source": [
    "***"
   ]
  },
  {
   "cell_type": "code",
   "execution_count": 4,
   "metadata": {},
   "outputs": [],
   "source": [
    "import requests\n",
    "import bs4\n",
    "import pandas as pd"
   ]
  },
  {
   "cell_type": "code",
   "execution_count": 5,
   "metadata": {},
   "outputs": [],
   "source": [
    "# link = \"https://store.steampowered.com/search/?term=&ignore_preferences=1&page=1\"\n",
    "\n",
    "# out = requests.get(link)\n",
    "\n",
    "# content = bs4.BeautifulSoup(out.content)"
   ]
  },
  {
   "cell_type": "code",
   "execution_count": 6,
   "metadata": {},
   "outputs": [],
   "source": [
    "# Temp solution while internet's out\n",
    "content = bs4.BeautifulSoup(html_root)"
   ]
  },
  {
   "cell_type": "code",
   "execution_count": 7,
   "metadata": {},
   "outputs": [],
   "source": [
    "games = content.find_all('a', class_=\"search_result_row\")"
   ]
  },
  {
   "cell_type": "code",
   "execution_count": 8,
   "metadata": {
    "scrolled": true
   },
   "outputs": [
    {
     "data": {
      "text/plain": [
       "'Counter-Strike: Global Offensive'"
      ]
     },
     "execution_count": 8,
     "metadata": {},
     "output_type": "execute_result"
    }
   ],
   "source": [
    "games[0].find(\"span\", class_=\"title\").text"
   ]
  },
  {
   "cell_type": "code",
   "execution_count": 9,
   "metadata": {},
   "outputs": [
    {
     "data": {
      "text/plain": [
       "['https://store.steampowered.com/app/730/CounterStrike_Global_Offensive/?snr=1_7_7_230_150_1',\n",
       " 'https://store.steampowered.com/app/252490/Rust/?snr=1_7_7_230_150_1',\n",
       " 'https://store.steampowered.com/app/1172470/Apex_Legends/?snr=1_7_7_230_150_1',\n",
       " 'https://store.steampowered.com/app/1085660/Destiny_2/?snr=1_7_7_230_150_1',\n",
       " 'https://store.steampowered.com/app/739630/Phasmophobia/?snr=1_7_7_230_150_1',\n",
       " 'https://store.steampowered.com/app/1091500/Cyberpunk_2077/?snr=1_7_7_230_150_1',\n",
       " 'https://store.steampowered.com/app/359550/Tom_Clancys_Rainbow_Six_Siege/?snr=1_7_7_230_150_1',\n",
       " 'https://store.steampowered.com/app/271590/Grand_Theft_Auto_V/?snr=1_7_7_230_150_1',\n",
       " 'https://store.steampowered.com/app/1172620/Sea_of_Thieves/?snr=1_7_7_230_150_1',\n",
       " 'https://store.steampowered.com/app/306130/The_Elder_Scrolls_Online/?snr=1_7_7_230_150_1',\n",
       " 'https://store.steampowered.com/app/236390/War_Thunder/?snr=1_7_7_230_150_1',\n",
       " 'https://store.steampowered.com/app/1145360/Hades/?snr=1_7_7_230_150_1',\n",
       " 'https://store.steampowered.com/app/648800/Raft/?snr=1_7_7_230_150_1',\n",
       " 'https://store.steampowered.com/app/1174180/Red_Dead_Redemption_2/?snr=1_7_7_230_150_1',\n",
       " 'https://store.steampowered.com/app/413150/Stardew_Valley/?snr=1_7_7_230_150_1',\n",
       " 'https://store.steampowered.com/app/386360/SMITE/?snr=1_7_7_230_150_1',\n",
       " 'https://store.steampowered.com/app/582660/Black_Desert_Online/?snr=1_7_7_230_150_1',\n",
       " 'https://store.steampowered.com/app/945360/Among_Us/?snr=1_7_7_230_150_1',\n",
       " 'https://store.steampowered.com/app/381210/Dead_by_Daylight/?snr=1_7_7_230_150_1',\n",
       " 'https://store.steampowered.com/app/440/Team_Fortress_2/?snr=1_7_7_230_150_1',\n",
       " 'https://store.steampowered.com/app/1086940/Baldurs_Gate_3/?snr=1_7_7_230_150_1',\n",
       " 'https://store.steampowered.com/app/230410/Warframe/?snr=1_7_7_230_150_1',\n",
       " 'https://store.steampowered.com/app/582010/Monster_Hunter_World/?snr=1_7_7_230_150_1',\n",
       " 'https://store.steampowered.com/app/242760/The_Forest/?snr=1_7_7_230_150_1',\n",
       " 'https://store.steampowered.com/app/1222670/The_Sims_4/?snr=1_7_7_230_150_1']"
      ]
     },
     "execution_count": 9,
     "metadata": {},
     "output_type": "execute_result"
    }
   ],
   "source": [
    "list(map(lambda elem:elem[\"href\"], games))"
   ]
  },
  {
   "cell_type": "markdown",
   "metadata": {},
   "source": [
    "## Get game price"
   ]
  },
  {
   "cell_type": "markdown",
   "metadata": {},
   "source": [
    "Possible scenarios for price scraping\n",
    "- Normal pricing\n",
    "- Discounted prices (Before and after)\n",
    "- Subscription-based\n",
    "- Free-to-play"
   ]
  },
  {
   "cell_type": "code",
   "execution_count": 10,
   "metadata": {},
   "outputs": [],
   "source": [
    "# Normal pricing\n",
    "game_link = \"https://store.steampowered.com/app/252490/Rust/\"\n",
    "# # Discounted prices (Before and after)\n",
    "# game_link = \"https://store.steampowered.com/app/857980/Void_Bastards/\"\n",
    "# # Subscription-based\n",
    "# game_link = \"https://store.steampowered.com/app/1222680/Need_for_Speed_Heat/\"\n",
    "# # Free-to-play\n",
    "# game_link = \"https://store.steampowered.com/app/730/CounterStrike_Global_Offensive/\""
   ]
  },
  {
   "cell_type": "code",
   "execution_count": 11,
   "metadata": {},
   "outputs": [],
   "source": [
    "# # game_link = games[0].get(\"href\")\n",
    "# game_page = requests.get(game_link)\n",
    "# game_content = bs4.BeautifulSoup(game_page.content)"
   ]
  },
  {
   "cell_type": "code",
   "execution_count": 12,
   "metadata": {},
   "outputs": [],
   "source": [
    "# Temp solution while internet's out\n",
    "game_content = bs4.BeautifulSoup(html_page)"
   ]
  },
  {
   "cell_type": "code",
   "execution_count": 13,
   "metadata": {},
   "outputs": [
    {
     "data": {
      "text/plain": [
       "'$39.99'"
      ]
     },
     "execution_count": 13,
     "metadata": {},
     "output_type": "execute_result"
    }
   ],
   "source": [
    "game_content.find(\"div\", class_=\"game_purchase_price price\").text.strip()\n",
    "# game_content.find(\"div\", class_=\"game_purchase_price price\").get(\"data-price-final\")\n",
    "# game_content.find(\"div\", class_=\"discount_original_price\").text.strip()\n",
    "# game_content.find(\"div\", class_=\"discount_final_price\").text.strip()"
   ]
  },
  {
   "cell_type": "code",
   "execution_count": 14,
   "metadata": {},
   "outputs": [
    {
     "data": {
      "text/plain": [
       "<div class=\"game_purchase_action\">\n",
       "<div class=\"game_purchase_action_bg\">\n",
       "<div class=\"game_purchase_price price\" data-price-final=\"3999\">\n",
       "\t\t\t\t\t\t\t$39.99\t\t\t\t\t\t</div>\n",
       "<div class=\"btn_addtocart\">\n",
       "<a class=\"btn_green_steamui btn_medium\" href=\"javascript:addToCart(244390);\" id=\"btn_add_to_cart_244390\">\n",
       "<span>Add to Cart</span>\n",
       "</a>\n",
       "</div>\n",
       "</div>\n",
       "</div>"
      ]
     },
     "execution_count": 14,
     "metadata": {},
     "output_type": "execute_result"
    }
   ],
   "source": [
    "game_content.find(\"div\", class_=\"game_purchase_action\")"
   ]
  },
  {
   "cell_type": "markdown",
   "metadata": {},
   "source": [
    "## Get release date"
   ]
  },
  {
   "cell_type": "code",
   "execution_count": 15,
   "metadata": {},
   "outputs": [
    {
     "data": {
      "text/plain": [
       "'Feb 8, 2018'"
      ]
     },
     "execution_count": 15,
     "metadata": {},
     "output_type": "execute_result"
    }
   ],
   "source": [
    "game_content.find(\"div\", class_=\"date\").text"
   ]
  },
  {
   "cell_type": "code",
   "execution_count": 16,
   "metadata": {},
   "outputs": [
    {
     "ename": "AttributeError",
     "evalue": "module 'scraping' has no attribute 'get_release_date'",
     "output_type": "error",
     "traceback": [
      "\u001b[1;31m---------------------------------------------------------------------------\u001b[0m",
      "\u001b[1;31mAttributeError\u001b[0m                            Traceback (most recent call last)",
      "\u001b[1;32m<ipython-input-16-00cb0ea1fb15>\u001b[0m in \u001b[0;36m<module>\u001b[1;34m\u001b[0m\n\u001b[1;32m----> 1\u001b[1;33m \u001b[0msc\u001b[0m\u001b[1;33m.\u001b[0m\u001b[0mget_release_date\u001b[0m\u001b[1;33m(\u001b[0m\u001b[0mgame_content\u001b[0m\u001b[1;33m)\u001b[0m\u001b[1;33m\u001b[0m\u001b[0m\n\u001b[0m",
      "\u001b[1;31mAttributeError\u001b[0m: module 'scraping' has no attribute 'get_release_date'"
     ]
    }
   ],
   "source": [
    "sc.get_release_date(game_content)"
   ]
  },
  {
   "cell_type": "markdown",
   "metadata": {},
   "source": [
    "***"
   ]
  },
  {
   "cell_type": "markdown",
   "metadata": {},
   "source": [
    "## Get system requirements"
   ]
  },
  {
   "cell_type": "code",
   "execution_count": null,
   "metadata": {},
   "outputs": [],
   "source": [
    "sc.get_sys_reqs(game_content)"
   ]
  },
  {
   "cell_type": "markdown",
   "metadata": {},
   "source": [
    "## Get game name"
   ]
  },
  {
   "cell_type": "code",
   "execution_count": null,
   "metadata": {},
   "outputs": [],
   "source": [
    "game_content.find(\"div\", class_=\"apphub_AppName\").text"
   ]
  },
  {
   "cell_type": "code",
   "execution_count": null,
   "metadata": {},
   "outputs": [],
   "source": [
    "sc.get_game_name(game_content)"
   ]
  },
  {
   "cell_type": "code",
   "execution_count": null,
   "metadata": {},
   "outputs": [],
   "source": [
    "sc.get_release_date(game_content)\n",
    "# sc.get_sys_reqs(game_content)"
   ]
  },
  {
   "cell_type": "code",
   "execution_count": null,
   "metadata": {},
   "outputs": [],
   "source": [
    "out = {}\n",
    "\n",
    "out.update(sc.get_game_name(game_content))\n",
    "out.update(sc.get_release_date(game_content))\n",
    "out.update(sc.get_sys_reqs(game_content))"
   ]
  },
  {
   "cell_type": "code",
   "execution_count": null,
   "metadata": {},
   "outputs": [],
   "source": [
    "test_frame = pd.DataFrame([out, out])"
   ]
  },
  {
   "cell_type": "markdown",
   "metadata": {},
   "source": [
    "## Cross-referencing intel cpus to add on frequency"
   ]
  },
  {
   "cell_type": "code",
   "execution_count": null,
   "metadata": {},
   "outputs": [],
   "source": [
    "usecols = [\"Processor_Number\", \"nb_of_Cores\", \"nb_of_Threads\",\n",
    "           \"Processor_Base_Frequency\", \"Max_Turbo_Frequency\"]\n",
    "cpus = pd.read_csv(ROOT_DIR + \"data/Intel_CPUs.csv\", usecols=usecols)"
   ]
  },
  {
   "cell_type": "code",
   "execution_count": null,
   "metadata": {},
   "outputs": [],
   "source": [
    "import re"
   ]
  },
  {
   "cell_type": "code",
   "execution_count": null,
   "metadata": {},
   "outputs": [],
   "source": [
    "row = test_frame[\"rec_processor\"][0]\n",
    "target_cpu = re.findall(r\"(i\\d-\\d+)\", row)[-1]\n",
    "match = cpus[cpus[\"Processor_Number\"] == target_cpu].iloc[0]"
   ]
  },
  {
   "cell_type": "code",
   "execution_count": null,
   "metadata": {},
   "outputs": [],
   "source": [
    "{key.lower():match[key] for key in match.drop(\"Processor_Number\").to_dict()}"
   ]
  },
  {
   "cell_type": "code",
   "execution_count": null,
   "metadata": {},
   "outputs": [],
   "source": []
  }
 ],
 "metadata": {
  "kernelspec": {
   "display_name": "Python 3",
   "language": "python",
   "name": "python3"
  },
  "language_info": {
   "codemirror_mode": {
    "name": "ipython",
    "version": 3
   },
   "file_extension": ".py",
   "mimetype": "text/x-python",
   "name": "python",
   "nbconvert_exporter": "python",
   "pygments_lexer": "ipython3",
   "version": "3.6.2"
  }
 },
 "nbformat": 4,
 "nbformat_minor": 2
}
