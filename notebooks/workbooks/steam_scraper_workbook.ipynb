{
 "cells": [
  {
   "cell_type": "code",
   "execution_count": 1,
   "metadata": {},
   "outputs": [],
   "source": [
    "import os\n",
    "import sys"
   ]
  },
  {
   "cell_type": "code",
   "execution_count": 2,
   "metadata": {},
   "outputs": [],
   "source": [
    "ROOT_DIR = \"../../\"\n",
    "sys.path.insert(0, os.path.abspath(ROOT_DIR + \"/src/scraping\"))\n",
    "from scraping import steam_scraper"
   ]
  },
  {
   "cell_type": "code",
   "execution_count": 3,
   "metadata": {},
   "outputs": [],
   "source": [
    "import requests\n",
    "import bs4\n",
    "import pandas as pd\n",
    "import numpy as np"
   ]
  },
  {
   "cell_type": "code",
   "execution_count": 4,
   "metadata": {},
   "outputs": [],
   "source": [
    "sc = steam_scraper(ROOT_DIR)"
   ]
  },
  {
   "cell_type": "code",
   "execution_count": 5,
   "metadata": {},
   "outputs": [],
   "source": [
    "sc.scrape_data()"
   ]
  },
  {
   "cell_type": "code",
   "execution_count": 6,
   "metadata": {},
   "outputs": [
    {
     "data": {
      "text/html": [
       "<div>\n",
       "<style scoped>\n",
       "    .dataframe tbody tr th:only-of-type {\n",
       "        vertical-align: middle;\n",
       "    }\n",
       "\n",
       "    .dataframe tbody tr th {\n",
       "        vertical-align: top;\n",
       "    }\n",
       "\n",
       "    .dataframe thead th {\n",
       "        text-align: right;\n",
       "    }\n",
       "</style>\n",
       "<table border=\"1\" class=\"dataframe\">\n",
       "  <thead>\n",
       "    <tr style=\"text-align: right;\">\n",
       "      <th></th>\n",
       "      <th>name</th>\n",
       "      <th>href</th>\n",
       "    </tr>\n",
       "  </thead>\n",
       "  <tbody>\n",
       "    <tr>\n",
       "      <th>0</th>\n",
       "      <td>Rust</td>\n",
       "      <td>https://store.steampowered.com/app/252490/Rust/</td>\n",
       "    </tr>\n",
       "    <tr>\n",
       "      <th>1</th>\n",
       "      <td>Counter-Strike: Global Offensive</td>\n",
       "      <td>https://store.steampowered.com/app/730/Counter...</td>\n",
       "    </tr>\n",
       "    <tr>\n",
       "      <th>2</th>\n",
       "      <td>Apex Legends™</td>\n",
       "      <td>https://store.steampowered.com/app/1172470/Ape...</td>\n",
       "    </tr>\n",
       "    <tr>\n",
       "      <th>3</th>\n",
       "      <td>Destiny 2</td>\n",
       "      <td>https://store.steampowered.com/app/1085660/Des...</td>\n",
       "    </tr>\n",
       "    <tr>\n",
       "      <th>4</th>\n",
       "      <td>Phasmophobia</td>\n",
       "      <td>https://store.steampowered.com/app/739630/Phas...</td>\n",
       "    </tr>\n",
       "    <tr>\n",
       "      <th>...</th>\n",
       "      <td>...</td>\n",
       "      <td>...</td>\n",
       "    </tr>\n",
       "    <tr>\n",
       "      <th>89963</th>\n",
       "      <td>PowerWash Simulator</td>\n",
       "      <td>https://store.steampowered.com/app/1290000/Pow...</td>\n",
       "    </tr>\n",
       "    <tr>\n",
       "      <th>89964</th>\n",
       "      <td>Hidden Shelter</td>\n",
       "      <td>https://store.steampowered.com/app/1422820/Hid...</td>\n",
       "    </tr>\n",
       "    <tr>\n",
       "      <th>89965</th>\n",
       "      <td>Realm Engine | Virtual Tabletop</td>\n",
       "      <td>https://store.steampowered.com/app/1427700/Rea...</td>\n",
       "    </tr>\n",
       "    <tr>\n",
       "      <th>89966</th>\n",
       "      <td>Go Gold Castle</td>\n",
       "      <td>https://store.steampowered.com/app/1443700/Go_...</td>\n",
       "    </tr>\n",
       "    <tr>\n",
       "      <th>89967</th>\n",
       "      <td>Shots Fired</td>\n",
       "      <td>https://store.steampowered.com/app/650120/Shot...</td>\n",
       "    </tr>\n",
       "  </tbody>\n",
       "</table>\n",
       "<p>89968 rows × 2 columns</p>\n",
       "</div>"
      ],
      "text/plain": [
       "                                   name  \\\n",
       "0                                  Rust   \n",
       "1      Counter-Strike: Global Offensive   \n",
       "2                         Apex Legends™   \n",
       "3                             Destiny 2   \n",
       "4                          Phasmophobia   \n",
       "...                                 ...   \n",
       "89963               PowerWash Simulator   \n",
       "89964                    Hidden Shelter   \n",
       "89965   Realm Engine | Virtual Tabletop   \n",
       "89966                    Go Gold Castle   \n",
       "89967                       Shots Fired   \n",
       "\n",
       "                                                    href  \n",
       "0        https://store.steampowered.com/app/252490/Rust/  \n",
       "1      https://store.steampowered.com/app/730/Counter...  \n",
       "2      https://store.steampowered.com/app/1172470/Ape...  \n",
       "3      https://store.steampowered.com/app/1085660/Des...  \n",
       "4      https://store.steampowered.com/app/739630/Phas...  \n",
       "...                                                  ...  \n",
       "89963  https://store.steampowered.com/app/1290000/Pow...  \n",
       "89964  https://store.steampowered.com/app/1422820/Hid...  \n",
       "89965  https://store.steampowered.com/app/1427700/Rea...  \n",
       "89966  https://store.steampowered.com/app/1443700/Go_...  \n",
       "89967  https://store.steampowered.com/app/650120/Shot...  \n",
       "\n",
       "[89968 rows x 2 columns]"
      ]
     },
     "execution_count": 6,
     "metadata": {},
     "output_type": "execute_result"
    }
   ],
   "source": [
    "sc.games"
   ]
  },
  {
   "cell_type": "markdown",
   "metadata": {},
   "source": [
    "***"
   ]
  },
  {
   "cell_type": "code",
   "execution_count": 7,
   "metadata": {},
   "outputs": [],
   "source": [
    "def collect_sys_reqs(chunksize=2000, starting_chunk=None, max_chunk=None):\n",
    "    default_max_chunk = int(np.ceil(sc.games.shape[0] / chunksize))\n",
    "    if not(new_max_chunk is None):\n",
    "        assert isinstance(new_max_chunk, int), \"Max chunk must be an integer\"\n",
    "        assert new_max_chunk >= 0, \"Only a non-negative max chunk is valid\"\n",
    "        assert new_max_chunk <= default_max_chunk, \"Max chunk cannot go beyond the current max of {}\".format(default_max_chunk)\n",
    "        max_chunk = new_max_chunk\n",
    "    else:\n",
    "        max_chunk = default_max_chunk\n",
    "        \n",
    "    if starting_chunk is None:\n",
    "        starting_chunk = 0\n",
    "    else:\n",
    "        assert isinstance(starting_chunk, int), \"Starting chunk must be an integer\"\n",
    "        assert starting_chunk >= 0, \"Only non-negative starting chunk are valid\"\n",
    "        assert starting_chunk <= max_chunk, \"Max chunk given current settings is only {}. Starting chunk cannot be bigger than the max chunk.\".format(max_chunk)\n",
    "        \n",
    "    fname_root = ROOT_DIR + \"data/temp/\"\n",
    "    if not os.path.exists(fname_root):\n",
    "        os.mkdir(fname_root)\n",
    "    for chunk in range(starting_chunk, max_chunk):\n",
    "        fname = fname_root + str(chunk)\n",
    "        \n",
    "        start = chunk * chunksize\n",
    "        end = (chunk * chunksize) + chunksize\n",
    "        if end > sc.games.shape[0]:\n",
    "            end = sc.games.shape[0] + 1\n",
    "        print(\"Starting chunk {}:{}-{}\".format(chunk, start, end))\n",
    "        game_infos = []\n",
    "        # Begin fetching all data for a chunk\n",
    "        for ix in range(start, end):\n",
    "            print(\"\\tProcessing game #{}\".format(ix), end='\\r')\n",
    "            target_game = sc.games.iloc[ix]\n",
    "            game_info = sc.get_game_info(target_game.href)\n",
    "            for key in game_info:\n",
    "                target_game[key] = game_info[key]\n",
    "            game_infos.append(target_game)\n",
    "        try:\n",
    "            # Save chunk data to a temp file\n",
    "            game_infos = pd.DataFrame(game_infos).to_csv(fname_root + f\"game_sys_reqs_{chunk}.csv\", index=False)\n",
    "        except:\n",
    "            # If unable to write the data, save it\n",
    "            self.temp = game_infos\n",
    "            raise Exception(\"Unable to save file. Temporary data saved to self.temp attribute\")"
   ]
  },
  {
   "cell_type": "code",
   "execution_count": 11,
   "metadata": {
    "scrolled": true
   },
   "outputs": [
    {
     "name": "stdout",
     "output_type": "stream",
     "text": [
      "Starting chunk 0:0-2000\n",
      "Wall time: 15min 41s99\n"
     ]
    }
   ],
   "source": [
    "%time collect_sys_reqs(max_chunk = 1)"
   ]
  },
  {
   "cell_type": "code",
   "execution_count": null,
   "metadata": {},
   "outputs": [],
   "source": [
    "import requests\n",
    "import bs4"
   ]
  },
  {
   "cell_type": "code",
   "execution_count": null,
   "metadata": {},
   "outputs": [],
   "source": [
    "link = \"https://store.steampowered.com/app/1059530/Valve_Index_Headset/?snr=1_7_7_230_150_3\"\n",
    "page = requests.get(link)\n",
    "content = bs4.BeautifulSoup(page.content)"
   ]
  },
  {
   "cell_type": "code",
   "execution_count": null,
   "metadata": {},
   "outputs": [],
   "source": [
    "content.find(\"div\", class_=\"details_block\").text.split(':')[-1].strip()"
   ]
  },
  {
   "cell_type": "code",
   "execution_count": null,
   "metadata": {},
   "outputs": [],
   "source": []
  }
 ],
 "metadata": {
  "kernelspec": {
   "display_name": "Python 3",
   "language": "python",
   "name": "python3"
  },
  "language_info": {
   "codemirror_mode": {
    "name": "ipython",
    "version": 3
   },
   "file_extension": ".py",
   "mimetype": "text/x-python",
   "name": "python",
   "nbconvert_exporter": "python",
   "pygments_lexer": "ipython3",
   "version": "3.6.2"
  }
 },
 "nbformat": 4,
 "nbformat_minor": 2
}
